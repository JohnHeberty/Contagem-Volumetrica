{
 "cells": [
  {
   "cell_type": "markdown",
   "metadata": {},
   "source": [
    "# VERIFICANDO SE TEM CUDA"
   ]
  },
  {
   "cell_type": "code",
   "execution_count": null,
   "metadata": {},
   "outputs": [],
   "source": [
    "import torch\n",
    "import torchvision\n",
    "print(\"torch:\", torch.__version__)\n",
    "print(\"torchvision:\", torchvision.__version__)\n",
    "print(\"CUDA disponível:\", torch.cuda.is_available())"
   ]
  },
  {
   "cell_type": "markdown",
   "metadata": {},
   "source": [
    "# DATASET >> https://universe.roboflow.com/force-iaope/cars-egrgd/dataset/1#"
   ]
  },
  {
   "cell_type": "markdown",
   "metadata": {},
   "source": [
    "# PRÉ-AMBULO - IMPORT LIBS"
   ]
  },
  {
   "cell_type": "code",
   "execution_count": null,
   "metadata": {},
   "outputs": [],
   "source": [
    "from ultralytics import YOLO\n",
    "from PIL import Image\n",
    "import cv2\n",
    "import os\n",
    "\n",
    "from modules.helper.helper import create_video_from_images, get_framerate"
   ]
  },
  {
   "cell_type": "code",
   "execution_count": null,
   "metadata": {},
   "outputs": [],
   "source": [
    "# # Create a new YOLO model from scratch\n",
    "model = YOLO(\"yolo11n.yaml\")\n",
    "\n",
    "# Load a pretrained YOLO model (recommended for training)\n",
    "model = YOLO(\"yolo11n.pt\")\n",
    "\n",
    "# Train the model using the 'coco8.yaml' dataset for 3 epochs\n",
    "results = model.train(data=\"data.yaml\", epochs=3, batch=16, device=\"0\", workers=4)#, classes=[0, 1, 2, 3, 5, 7])\n",
    "\n",
    "# Perform object detection on an image using the model\n",
    "results = model(\"https://ultralytics.com/images/bus.jpg\")\n",
    "\n",
    "# Export the model to ONNX format\n",
    "success = model.export(format=\"onnx\")"
   ]
  },
  {
   "cell_type": "code",
   "execution_count": null,
   "metadata": {},
   "outputs": [],
   "source": [
    "# Caminho para o vídeo\n",
    "video_path  = \"input\\\\Teste.mp4\"\n",
    "\n",
    "save        = \"output\\\\detect\"\n",
    "os.makedirs(save, exist_ok=True)\n",
    "\n",
    "# Perform object detection on an image using the model\n",
    "results = model(source=video_path)\n",
    "\n",
    "# Visualize the results\n",
    "for i, r in enumerate(results):\n",
    "    try:\n",
    "        # Plot results image\n",
    "        im_bgr = r.plot()  # BGR-order numpy array\n",
    "        if im_bgr is None:\n",
    "            print(f\"Resultado {i} não contém dados válidos para plotar.\")\n",
    "            continue\n",
    "        im_rgb = Image.fromarray(im_bgr[..., ::-1])  # RGB-order PIL image\n",
    "        # Save results to disk\n",
    "        r.save(filename=os.path.join(save, f\"results{i}.jpg\"))\n",
    "    except ValueError as e:\n",
    "        print(f\"Erro ao processar o resultado {i}: {e}\")\n",
    "    except Exception as e:\n",
    "        print(f\"Erro inesperado ao processar o resultado {i}: {e}\")\n",
    "\n",
    "# Exemplo de uso\n",
    "image_folder = save\n",
    "output_video_path = \"output_video.mp4\"\n",
    "frame_rate = get_framerate(video_path)  # Substitua pelo frame rate desejado\n",
    "create_video_from_images(image_folder, output_video_path, frame_rate)"
   ]
  },
  {
   "cell_type": "code",
   "execution_count": null,
   "metadata": {},
   "outputs": [],
   "source": []
  }
 ],
 "metadata": {
  "kernelspec": {
   "display_name": "venv",
   "language": "python",
   "name": "python3"
  },
  "language_info": {
   "codemirror_mode": {
    "name": "ipython",
    "version": 3
   },
   "file_extension": ".py",
   "mimetype": "text/x-python",
   "name": "python",
   "nbconvert_exporter": "python",
   "pygments_lexer": "ipython3",
   "version": "3.12.7"
  }
 },
 "nbformat": 4,
 "nbformat_minor": 2
}
